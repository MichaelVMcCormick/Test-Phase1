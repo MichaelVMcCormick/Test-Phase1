{
    "nbformat_minor": 1, 
    "cells": [
        {
            "source": "Introduction to Final Project - Assessing Business Opportunity in Cambridge Area\n", 
            "cell_type": "markdown", 
            "metadata": {
                "collapsed": true
            }
        }, 
        {
            "source": "Cambridge Massachusetts is the 5th most populous city in the state and is part of the boston Metropolitan area. \nAs a resident and employee within the city, I decided to look at Cambridge for this project. \nCambridge has been called the \"City of Squares\", as most of its commercial districts are major street intersections known as squares. Each square acts as a neighborhood center.\nIncluding the 6 main squares, there are a total of 13 neighborhoods within Cambridge. \n\nAs of the census of 2010, there were 105,162 people, 44,032 households, and 17,420 families residing in the city. \nThe population density was 16,354.9 people per square mile (6,314.6/km\u00b2). \nThere were 47,291 housing units at an average density of 7,354.7 per square mile (2,840.3/km\u00b2)\n\nBased on the figures, there is a relatively high level of density of people and housing. \nThis would have a tendency to lead owners of shops and social sharing places in the city where the population is most dense, with preferences with lower real estate costs and less competition. \nWhen we think of it by the investor, we expect from them to prefer the districts where there is a lower real estate cost and the type of business they want to install is less intense.\nAt the same time, they may want to choose the an area that is has high social activity and pedestrian foot traffic. \nHowever, it is difficult to obtain all of this information readily for the average investor or business owner. \n\nWhen we consider all these problems, we can create a map and information chart where we can see density by business type within each square and neighborhood\nwithin Cambridge and search for potential business and investment opportunities. ", 
            "cell_type": "markdown", 
            "metadata": {}
        }, 
        {
            "source": "", 
            "cell_type": "code", 
            "metadata": {}, 
            "outputs": [], 
            "execution_count": null
        }
    ], 
    "metadata": {
        "kernelspec": {
            "display_name": "Python 3.5", 
            "name": "python3", 
            "language": "python"
        }, 
        "language_info": {
            "mimetype": "text/x-python", 
            "nbconvert_exporter": "python", 
            "version": "3.5.5", 
            "name": "python", 
            "pygments_lexer": "ipython3", 
            "file_extension": ".py", 
            "codemirror_mode": {
                "version": 3, 
                "name": "ipython"
            }
        }
    }, 
    "nbformat": 4
}