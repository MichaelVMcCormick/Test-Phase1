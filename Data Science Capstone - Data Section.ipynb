{
    "nbformat_minor": 1, 
    "cells": [
        {
            "source": "Data Science Capton Project - Data Section for Business Opportunity in Cambridge", 
            "cell_type": "markdown", 
            "metadata": {
                "collapsed": true
            }
        }, 
        {
            "source": "Data Description:\nTo consider the problem of business opportunities in Cambridge we can list the datas as below:\n    \n1) I found the neighborhood mapping based on The Community Development Department of the City of Cambridge - http://www.cambridgema.gov/~/media/Files/CDD/Maps/Neighborhood/cddmap_nhood_index.ashx\n2) I used Google map search function to get the center coordinates for each neighbordhood based on the above map. \n3) Cleaning the data and generating the .json file for all of Cambridge. Use the file to create a choropleth map of neighboorhood density by adding data from the US Census bureau. \n    Additional data from 2009\u20132013 American Community Survey 5-Year Estimates would show income level averages within each neighboorhood for potential analysis. \n4) Using the Forsquare API to get the most common venues/attractions within each neighborhood and square. \n5) Additional information will be added if further questions arise during the analysis phase. \n", 
            "cell_type": "code", 
            "metadata": {}, 
            "outputs": [], 
            "execution_count": null
        }
    ], 
    "metadata": {
        "kernelspec": {
            "display_name": "Python 3.5", 
            "name": "python3", 
            "language": "python"
        }, 
        "language_info": {
            "mimetype": "text/x-python", 
            "nbconvert_exporter": "python", 
            "version": "3.5.5", 
            "name": "python", 
            "file_extension": ".py", 
            "pygments_lexer": "ipython3", 
            "codemirror_mode": {
                "version": 3, 
                "name": "ipython"
            }
        }
    }, 
    "nbformat": 4
}